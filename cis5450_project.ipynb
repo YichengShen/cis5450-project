{
  "nbformat": 4,
  "nbformat_minor": 0,
  "metadata": {
    "colab": {
      "provenance": [],
      "collapsed_sections": [],
      "include_colab_link": true
    },
    "kernelspec": {
      "name": "python3",
      "display_name": "Python 3"
    },
    "language_info": {
      "name": "python"
    }
  },
  "cells": [
    {
      "cell_type": "markdown",
      "metadata": {
        "id": "view-in-github",
        "colab_type": "text"
      },
      "source": [
        "<a href=\"https://colab.research.google.com/github/YichengShen/cis5450-project/blob/main/cis5450_project.ipynb\" target=\"_parent\"><img src=\"https://colab.research.google.com/assets/colab-badge.svg\" alt=\"Open In Colab\"/></a>"
      ]
    },
    {
      "cell_type": "markdown",
      "source": [
        "# CIS 5450 Final Project"
      ],
      "metadata": {
        "id": "F0jeVV0O-V8U"
      }
    },
    {
      "cell_type": "markdown",
      "source": [
        "Dataset: [Brazilian E-Commerce Public Dataset by Olist](https://www.kaggle.com/datasets/olistbr/brazilian-ecommerce)"
      ],
      "metadata": {
        "id": "v4A3RCX0SPnw"
      }
    },
    {
      "cell_type": "markdown",
      "source": [
        "## 1. Environment Setup"
      ],
      "metadata": {
        "id": "EwNfbmNJTXMs"
      }
    },
    {
      "cell_type": "code",
      "source": [
        "! pip install opendatasets\n",
        "! pip install kaggle"
      ],
      "metadata": {
        "colab": {
          "base_uri": "https://localhost:8080/"
        },
        "id": "k0_bJ123Tcda",
        "outputId": "b8e6d059-a57c-4d88-e9c4-917fbd7859d0"
      },
      "execution_count": 1,
      "outputs": [
        {
          "output_type": "stream",
          "name": "stdout",
          "text": [
            "Looking in indexes: https://pypi.org/simple, https://us-python.pkg.dev/colab-wheels/public/simple/\n",
            "Requirement already satisfied: opendatasets in /usr/local/lib/python3.7/dist-packages (0.1.22)\n",
            "Requirement already satisfied: click in /usr/local/lib/python3.7/dist-packages (from opendatasets) (7.1.2)\n",
            "Requirement already satisfied: kaggle in /usr/local/lib/python3.7/dist-packages (from opendatasets) (1.5.12)\n",
            "Requirement already satisfied: tqdm in /usr/local/lib/python3.7/dist-packages (from opendatasets) (4.64.1)\n",
            "Requirement already satisfied: six>=1.10 in /usr/local/lib/python3.7/dist-packages (from kaggle->opendatasets) (1.15.0)\n",
            "Requirement already satisfied: requests in /usr/local/lib/python3.7/dist-packages (from kaggle->opendatasets) (2.23.0)\n",
            "Requirement already satisfied: urllib3 in /usr/local/lib/python3.7/dist-packages (from kaggle->opendatasets) (1.24.3)\n",
            "Requirement already satisfied: certifi in /usr/local/lib/python3.7/dist-packages (from kaggle->opendatasets) (2022.9.24)\n",
            "Requirement already satisfied: python-slugify in /usr/local/lib/python3.7/dist-packages (from kaggle->opendatasets) (6.1.2)\n",
            "Requirement already satisfied: python-dateutil in /usr/local/lib/python3.7/dist-packages (from kaggle->opendatasets) (2.8.2)\n",
            "Requirement already satisfied: text-unidecode>=1.3 in /usr/local/lib/python3.7/dist-packages (from python-slugify->kaggle->opendatasets) (1.3)\n",
            "Requirement already satisfied: idna<3,>=2.5 in /usr/local/lib/python3.7/dist-packages (from requests->kaggle->opendatasets) (2.10)\n",
            "Requirement already satisfied: chardet<4,>=3.0.2 in /usr/local/lib/python3.7/dist-packages (from requests->kaggle->opendatasets) (3.0.4)\n",
            "Looking in indexes: https://pypi.org/simple, https://us-python.pkg.dev/colab-wheels/public/simple/\n",
            "Requirement already satisfied: kaggle in /usr/local/lib/python3.7/dist-packages (1.5.12)\n",
            "Requirement already satisfied: urllib3 in /usr/local/lib/python3.7/dist-packages (from kaggle) (1.24.3)\n",
            "Requirement already satisfied: requests in /usr/local/lib/python3.7/dist-packages (from kaggle) (2.23.0)\n",
            "Requirement already satisfied: six>=1.10 in /usr/local/lib/python3.7/dist-packages (from kaggle) (1.15.0)\n",
            "Requirement already satisfied: certifi in /usr/local/lib/python3.7/dist-packages (from kaggle) (2022.9.24)\n",
            "Requirement already satisfied: tqdm in /usr/local/lib/python3.7/dist-packages (from kaggle) (4.64.1)\n",
            "Requirement already satisfied: python-slugify in /usr/local/lib/python3.7/dist-packages (from kaggle) (6.1.2)\n",
            "Requirement already satisfied: python-dateutil in /usr/local/lib/python3.7/dist-packages (from kaggle) (2.8.2)\n",
            "Requirement already satisfied: text-unidecode>=1.3 in /usr/local/lib/python3.7/dist-packages (from python-slugify->kaggle) (1.3)\n",
            "Requirement already satisfied: chardet<4,>=3.0.2 in /usr/local/lib/python3.7/dist-packages (from requests->kaggle) (3.0.4)\n",
            "Requirement already satisfied: idna<3,>=2.5 in /usr/local/lib/python3.7/dist-packages (from requests->kaggle) (2.10)\n"
          ]
        }
      ]
    },
    {
      "cell_type": "code",
      "source": [
        "import pandas as pd"
      ],
      "metadata": {
        "id": "moHJj88Xk0tE"
      },
      "execution_count": 5,
      "outputs": []
    },
    {
      "cell_type": "markdown",
      "source": [
        "## 2. Download and load data"
      ],
      "metadata": {
        "id": "85D5r3djSrNd"
      }
    },
    {
      "cell_type": "markdown",
      "source": [
        "Upload `kaggle.json` (containing your Kaggle credentials) to download Kaggle datasets."
      ],
      "metadata": {
        "id": "-Zmp8ySYhOKq"
      }
    },
    {
      "cell_type": "code",
      "source": [
        "from google.colab import files\n",
        "files.upload()"
      ],
      "metadata": {
        "id": "lmORV2hSTniU"
      },
      "execution_count": null,
      "outputs": []
    },
    {
      "cell_type": "markdown",
      "source": [
        "Download dataset"
      ],
      "metadata": {
        "id": "V1YMBEeYjzWT"
      }
    },
    {
      "cell_type": "code",
      "source": [
        "! mkdir -p ~/.kaggle\n",
        "! cp kaggle.json ~/.kaggle/\n",
        "! chmod 600 ~/.kaggle/kaggle.json\n",
        "! kaggle datasets download -d olistbr/brazilian-ecommerce\n",
        "! mkdir -p /content/raw_data\n",
        "! unzip -o brazilian-ecommerce.zip -d /content/raw_data\n",
        "! rm -f brazilian-ecommerce.zip"
      ],
      "metadata": {
        "colab": {
          "base_uri": "https://localhost:8080/"
        },
        "id": "WcoF9TbMhhy_",
        "outputId": "9dfbf966-42b7-4cef-fd2c-0b89091d9c64"
      },
      "execution_count": 4,
      "outputs": [
        {
          "output_type": "stream",
          "name": "stdout",
          "text": [
            "Downloading brazilian-ecommerce.zip to /content\n",
            " 82% 35.0M/42.6M [00:00<00:00, 179MB/s] \n",
            "100% 42.6M/42.6M [00:00<00:00, 176MB/s]\n",
            "Archive:  brazilian-ecommerce.zip\n",
            "  inflating: /content/raw_data/olist_customers_dataset.csv  \n",
            "  inflating: /content/raw_data/olist_geolocation_dataset.csv  \n",
            "  inflating: /content/raw_data/olist_order_items_dataset.csv  \n",
            "  inflating: /content/raw_data/olist_order_payments_dataset.csv  \n",
            "  inflating: /content/raw_data/olist_order_reviews_dataset.csv  \n",
            "  inflating: /content/raw_data/olist_orders_dataset.csv  \n",
            "  inflating: /content/raw_data/olist_products_dataset.csv  \n",
            "  inflating: /content/raw_data/olist_sellers_dataset.csv  \n",
            "  inflating: /content/raw_data/product_category_name_translation.csv  \n"
          ]
        }
      ]
    },
    {
      "cell_type": "code",
      "execution_count": 10,
      "metadata": {
        "id": "fWVpjVNt2was"
      },
      "outputs": [],
      "source": [
        "customers_df = pd.read_csv(\"./raw_data/olist_customers_dataset.csv\")\n",
        "geolocation_df = pd.read_csv(\"./raw_data/olist_geolocation_dataset.csv\")\n",
        "order_items_df = pd.read_csv(\"./raw_data/olist_order_items_dataset.csv\")\n",
        "order_payments_df = pd.read_csv(\"./raw_data/olist_order_payments_dataset.csv\")\n",
        "order_reviews_df = pd.read_csv(\"./raw_data/olist_order_reviews_dataset.csv\")\n",
        "orders_df = pd.read_csv(\"./raw_data/olist_orders_dataset.csv\")\n",
        "products_df = pd.read_csv(\"./raw_data/olist_products_dataset.csv\")\n",
        "sellers_df = pd.read_csv(\"./raw_data/olist_sellers_dataset.csv\")\n",
        "product_category_name_translation_df = pd.read_csv(\"./raw_data/product_category_name_translation.csv\")"
      ]
    },
    {
      "cell_type": "code",
      "source": [],
      "metadata": {
        "id": "-1tZ8CmwmcJ5"
      },
      "execution_count": null,
      "outputs": []
    }
  ]
}